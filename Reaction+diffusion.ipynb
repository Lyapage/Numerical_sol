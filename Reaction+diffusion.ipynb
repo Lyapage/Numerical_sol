{
 "cells": [
  {
   "cell_type": "markdown",
   "metadata": {},
   "source": [
    "## Gray-scott model\n",
    "\n",
    "This model can be used as a way to express chemical reaction of two generic substances or diffusion. Usually with chemical reaction:\n",
    "\n",
    "$$2V+U\\rightarrow3V$$\n",
    "\n",
    "A step further, the model can be expressed as below:\n",
    "\n",
    "$$\\frac{\\partial u}{ \\partial t} = D_u\\Delta u-uv^2+F(1-u)\\quad\\quad(1)$$\n",
    "\n",
    "$$\\frac{\\partial v}{\\partial t} = D_v\\Delta v + uv^2-(F+k)v\\quad\\quad(2)$$\n",
    "\n",
    "For above two equations, I'd like to replace $\\nabla^2$ with $Laplace\\space operator\\space \\Delta$ for convenience. $\\Delta u$ and $\\Delta v$ can be seen as left side of Laplace equations:\n",
    "\n",
    "$$\\Delta u = \\frac{\\partial^2 u}{\\partial x^2} + \\frac{\\partial^2 u}{\\partial y^2}\\quad\\quad(3)$$\n",
    "\n",
    "$$\\Delta v = \\frac{\\partial^2 v}{\\partial x^2} + \\frac{\\partial^2 v}{\\partial y^2}\\quad\\quad(4)$$\n",
    "\n",
    "So this problem is 2D problem. "
   ]
  },
  {
   "cell_type": "code",
   "execution_count": 2,
   "metadata": {},
   "outputs": [],
   "source": [
    "import numpy\n",
    "from matplotlib import pyplot\n",
    "import matplotlib.cm as cm\n",
    "%matplotlib inline"
   ]
  },
  {
   "cell_type": "code",
   "execution_count": 6,
   "metadata": {},
   "outputs": [],
   "source": [
    "uvinitial = numpy.load('/home/lyapage/Homework_reaction/uvinitial.npz')\n",
    "U = uvinitial['U']\n",
    "V = uvinitial['V']"
   ]
  },
  {
   "cell_type": "code",
   "execution_count": 1,
   "metadata": {
    "scrolled": true
   },
   "outputs": [
    {
     "ename": "NameError",
     "evalue": "name 'pyplot' is not defined",
     "output_type": "error",
     "traceback": [
      "\u001b[0;31m---------------------------------------------------------------------------\u001b[0m",
      "\u001b[0;31mNameError\u001b[0m                                 Traceback (most recent call last)",
      "\u001b[0;32m<ipython-input-1-acc2ac387ad0>\u001b[0m in \u001b[0;36m<module>\u001b[0;34m()\u001b[0m\n\u001b[0;32m----> 1\u001b[0;31m \u001b[0mfig\u001b[0m \u001b[0;34m=\u001b[0m \u001b[0mpyplot\u001b[0m\u001b[0;34m.\u001b[0m\u001b[0mfigure\u001b[0m\u001b[0;34m(\u001b[0m\u001b[0mfigsize\u001b[0m\u001b[0;34m=\u001b[0m\u001b[0;34m(\u001b[0m\u001b[0;36m8\u001b[0m\u001b[0;34m,\u001b[0m\u001b[0;36m5\u001b[0m\u001b[0;34m)\u001b[0m\u001b[0;34m)\u001b[0m\u001b[0;34m\u001b[0m\u001b[0m\n\u001b[0m\u001b[1;32m      2\u001b[0m \u001b[0mpyplot\u001b[0m\u001b[0;34m.\u001b[0m\u001b[0msubplot\u001b[0m\u001b[0;34m(\u001b[0m\u001b[0;36m121\u001b[0m\u001b[0;34m)\u001b[0m\u001b[0;34m\u001b[0m\u001b[0m\n\u001b[1;32m      3\u001b[0m \u001b[0mpyplot\u001b[0m\u001b[0;34m.\u001b[0m\u001b[0mimshow\u001b[0m\u001b[0;34m(\u001b[0m\u001b[0mU\u001b[0m\u001b[0;34m,\u001b[0m \u001b[0mcmap\u001b[0m \u001b[0;34m=\u001b[0m \u001b[0mcm\u001b[0m\u001b[0;34m.\u001b[0m\u001b[0mRdBu\u001b[0m\u001b[0;34m)\u001b[0m\u001b[0;34m\u001b[0m\u001b[0m\n\u001b[1;32m      4\u001b[0m \u001b[0mpyplot\u001b[0m\u001b[0;34m.\u001b[0m\u001b[0mxticks\u001b[0m\u001b[0;34m(\u001b[0m\u001b[0;34m[\u001b[0m\u001b[0;34m]\u001b[0m\u001b[0;34m)\u001b[0m\u001b[0;34m,\u001b[0m \u001b[0mpyplot\u001b[0m\u001b[0;34m.\u001b[0m\u001b[0myticks\u001b[0m\u001b[0;34m(\u001b[0m\u001b[0;34m[\u001b[0m\u001b[0;34m]\u001b[0m\u001b[0;34m)\u001b[0m\u001b[0;34m;\u001b[0m\u001b[0;34m\u001b[0m\u001b[0m\n\u001b[1;32m      5\u001b[0m \u001b[0mpyplot\u001b[0m\u001b[0;34m.\u001b[0m\u001b[0msubplot\u001b[0m\u001b[0;34m(\u001b[0m\u001b[0;36m122\u001b[0m\u001b[0;34m)\u001b[0m\u001b[0;34m\u001b[0m\u001b[0m\n",
      "\u001b[0;31mNameError\u001b[0m: name 'pyplot' is not defined"
     ]
    }
   ],
   "source": [
    "fig = pyplot.figure(figsize=(8,5))\n",
    "pyplot.subplot(121)\n",
    "pyplot.imshow(U, cmap = cm.RdBu)\n",
    "pyplot.xticks([]), pyplot.yticks([]);\n",
    "pyplot.subplot(122)\n",
    "pyplot.imshow(V, cmap = cm.RdBu)\n",
    "pyplot.xticks([]), pyplot.yticks([]);"
   ]
  },
  {
   "cell_type": "markdown",
   "metadata": {},
   "source": [
    "## Stability\n",
    "\n",
    "First of all, explicit method will be applied here. Explicit method is not unconditially stable so the first thing I will do here is to check the stability  of this problem:\n",
    "\n",
    "$$D_u(\\frac{\\Delta t}{(\\Delta x)^2}+\\frac{\\Delta t}{(\\Delta y)^2}) = 2D_u\\frac{\\Delta t}{\\delta^2}  \\quad\\quad(5)$$\n",
    "\n",
    "$$D_v(\\frac{\\Delta t}{(\\Delta x)^2}+\\frac{\\Delta t}{(\\Delta y)^2}) = 2D_v\\frac{\\Delta t}{\\delta^2}  \\quad\\quad(6)$$\n",
    "\n",
    "In order to make it stable, equation (5) and (6) should be less than $\\frac{1}{2}$. \n",
    "\n"
   ]
  },
  {
   "cell_type": "code",
   "execution_count": 75,
   "metadata": {
    "collapsed": true
   },
   "outputs": [],
   "source": [
    "# Given conditions:\n",
    "n = 192\n",
    "\n",
    "Du, Dv, F, k = 0.00016, 0.00008, 0.035, 0.065\n",
    "\n",
    "dh = 5/(n-1)\n",
    "\n",
    "T = 8000.0\n",
    "\n",
    "dt = .9 * dh**2 / (4*max(Du,Dv))\n",
    "\n",
    "nt = int(T/dt)"
   ]
  },
  {
   "cell_type": "code",
   "execution_count": 76,
   "metadata": {},
   "outputs": [
    {
     "name": "stdout",
     "output_type": "stream",
     "text": [
      "It is stable with given conditions.\n"
     ]
    }
   ],
   "source": [
    "# Now put the given condition into equation (5) and (6)\n",
    "\n",
    "sigma_u = 2*Du*dt/dh**2    #CFL number for U\n",
    "sigma_v = 2*Dv*dt/dh**2    #CFL number for V\n",
    "CFL_stable = 0.5    #obtained from lesson2\n",
    "\n",
    "if sigma_u < CFL_stable and sigma_v < CFL_stable:\n",
    "    print('It is stable with given conditions.')\n",
    "else: \n",
    "    print('It is not stable, actually implicit method needed here.')"
   ]
  },
  {
   "cell_type": "markdown",
   "metadata": {},
   "source": [
    "## 2D Finite differences\n",
    "\n",
    "Equation (1) and (2) can be discretized as numerical form:\n",
    "\n",
    "$$\\frac{U^{n+1}_{i,j}-U_{i,j}^n}{\\Delta t} =D_u\\Big [ \\frac{U^n_{i+1,j}-2U^n_{i,j}+U^n_{i-1,j}}{(\\Delta x)^2} + \\frac{U^n_{i,j+1}-2U^n_{i,j}+U^n_{i,j-1}}{(\\Delta y)^2} \\Big ] - U^n_{i,j}(V^n_{i,j})^2 + F(1-U^n_{i,j})\\quad\\quad(7)$$\n",
    "\n",
    "$$\\frac{V^{n+1}_{i,j}-V_{i,j}^n}{\\Delta t} =D_v\\Big [ \\frac{V^n_{i+1,j}-2V^n_{i,j}+V^n_{i-1,j}}{(\\Delta x)^2} + \\frac{V^n_{i,j+1}-2V^n_{i,j}+V^n_{i,j-1}}{(\\Delta y)^2} \\Big ] + U^n_{i,j}(V^n_{i,j})^2 - (F+k)V^n_{i,j}\\quad\\quad(8)$$\n",
    "\n",
    "With known condition: $\\Delta x=\\Delta y =\\delta$, transform above two equations into:\n"
   ]
  },
  {
   "cell_type": "markdown",
   "metadata": {},
   "source": [
    "$$U^{n+1}_{i,j} = U_{i,j}^n + D_u \\frac{\\Delta t}{\\delta^2}\\Big[ U^n_{i+1,j}+U^n_{i-1,j} -4U_{i,j}^n + U_{i,j+1}^n +U_{i,j-1}^n \\Big] - \\Delta tU^n_{i,j}(V^n_{i,l}) + \\Delta t F(1-U_{i,j,}^n)\\quad\\quad(9)$$\n",
    "\n",
    "$$V^{n+1}_{i,j} = V_{i,j}^n + D_v \\frac{\\Delta t}{\\delta^2}\\Big[ V^n_{i+1,j}+V^n_{i-1,j} -4V_{i,j}^n + V_{i,j+1}^n +V_{i,j-1}^n \\Big] + \\Delta tU^n_{i,j}(V^n_{i,l}) - \\Delta t (F+k)V_{i,j}^n\\quad\\quad(10)$$\n",
    "\n"
   ]
  },
  {
   "cell_type": "markdown",
   "metadata": {},
   "source": [
    "## Boundary condition\n",
    "\n",
    "All sides satisfy Neumann condition:\n",
    "\n",
    "$$\\frac{\\partial U}{\\partial x}\\Big|_{x=0,5}=0,\\frac{\\partial U}{\\partial y}\\Big|_{y=0,5}=0,\\frac{\\partial V}{\\partial x}\\Big|_{x=0,5}=0,\\frac{\\partial V}{\\partial y}\\Big|_{y=0,5}=0\\quad\\quad(11)$$"
   ]
  },
  {
   "cell_type": "markdown",
   "metadata": {},
   "source": [
    "$$\\implies Un[0,:] = Un[1,:],Un[-1,:] = Un[-2,:],Un[:,0] = Un[:,1],Un[:,-1] = Un[:,-2]\\quad\\quad(12)$$\n",
    "\n",
    "$$\\implies Vn[0,:] = Vn[1,:],Vn[-1,:] = Vn[-2,:],Vn[:,0] = Vn[:,1],Vn[:,-1] = Vn[:,-2]\\quad\\quad(13)$$"
   ]
  },
  {
   "cell_type": "code",
   "execution_count": 80,
   "metadata": {
    "collapsed": true
   },
   "outputs": [],
   "source": [
    "def ftcs(U,V,nt,dh,dt,Du,Dv,F,k):\n",
    "    \n",
    "    for n in range(nt):\n",
    "        \n",
    "        Un = U.copy()\n",
    "        Vn = V.copy()\n",
    "        U[1:-1,1:-1] = Un[1:-1,1:-1] + Du*dt/dh**2*(Un[2:,1:-1] + Un[:-2,1:-1] -\\\n",
    "                       4*Un[1:-1,1:-1] + Un[1:-1,2:] + Un[1:-1,:-2]) -\\\n",
    "                       dt*Un[1:-1,1:-1]*Vn[1:-1,1:-1]**2 +\\\n",
    "                       dt*F*(1 - Un[1:-1,1:-1])\n",
    "        \n",
    "        V[1:-1,1:-1] = Vn[1:-1,1:-1] + Dv*dt/dh**2*(Vn[2:,1:-1] + Vn[:-2,1:-1] -\\\n",
    "                       4*Vn[1:-1,1:-1] + Vn[1:-1,2:] + Vn[1:-1,:-2]) +\\\n",
    "                       dt*Un[1:-1,1:-1]*Vn[1:-1,1:-1]**2 -\\\n",
    "                       dt*(F+k)*Vn[1:-1,1:-1]\n",
    "                \n",
    "        #Neumann conditions:\n",
    "        U[0,:] = U[1,:]\n",
    "        U[-1,:] = U[-2,:]\n",
    "        U[:,0] = U[:,1]\n",
    "        U[:,-1] = U[:,-2]\n",
    "        \n",
    "        V[0,:] = V[1,:]\n",
    "        V[-1,:] = V[-2,:]\n",
    "        V[:,0] = V[:,1]\n",
    "        V[:,-1] = V[:,-2]\n",
    "        \n",
    "        \n",
    "    return U,V"
   ]
  },
  {
   "cell_type": "code",
   "execution_count": 84,
   "metadata": {},
   "outputs": [],
   "source": [
    "Ui = U.copy()\n",
    "Vi = V.copy()\n",
    "\n",
    "U_8000,V_8000 = ftcs(Ui,Vi,nt,dh,dt,Du,Dv,F,k)"
   ]
  },
  {
   "cell_type": "code",
   "execution_count": 96,
   "metadata": {},
   "outputs": [
    {
     "name": "stdout",
     "output_type": "stream",
     "text": [
      "The first number is: 0.9247\n",
      "The second number is: 0.8501\n",
      "The third number is: 0.6682\n",
      "The fouth number is: 0.9020\n",
      "The fifth number is: 0.9040\n"
     ]
    }
   ],
   "source": [
    "N1 = U_8000[100,::40][0] # First number\n",
    "print('The first number is: {:.4f}'.format(N1))\n",
    "\n",
    "N2 = U_8000[100,::40][1] # First number\n",
    "print('The second number is: {:.4f}'.format(N2))\n",
    "\n",
    "N3 = U_8000[100,::40][2] # First number\n",
    "print('The third number is: {:.4f}'.format(N3))\n",
    "\n",
    "N4 = U_8000[100,::40][3] # First number\n",
    "print('The fouth number is: {:.4f}'.format(N4))\n",
    "\n",
    "N5 = U_8000[100,::40][4] # First number\n",
    "print('The fifth number is: {:.4f}'.format(N5))"
   ]
  },
  {
   "cell_type": "code",
   "execution_count": 95,
   "metadata": {
    "collapsed": true
   },
   "outputs": [],
   "source": [
    "for i in range(4)\n",
    "Nx[i] = numpy.where(U_8000[100,::40][i])\n",
    "print('The {} number ')"
   ]
  },
  {
   "cell_type": "code",
   "execution_count": null,
   "metadata": {
    "collapsed": true
   },
   "outputs": [],
   "source": []
  }
 ],
 "metadata": {
  "anaconda-cloud": {},
  "kernelspec": {
   "display_name": "Python 3",
   "language": "python",
   "name": "python3"
  },
  "language_info": {
   "codemirror_mode": {
    "name": "ipython",
    "version": 3
   },
   "file_extension": ".py",
   "mimetype": "text/x-python",
   "name": "python",
   "nbconvert_exporter": "python",
   "pygments_lexer": "ipython3",
   "version": "3.6.0"
  }
 },
 "nbformat": 4,
 "nbformat_minor": 1
}
