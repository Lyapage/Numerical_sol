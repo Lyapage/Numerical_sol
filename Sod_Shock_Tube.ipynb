{
 "cells": [
  {
   "cell_type": "markdown",
   "metadata": {},
   "source": [
    "# Sod's Shock tube\n",
    "\n",
    "At the beginning, It is necessary to notice that Sod's test problem based on 1D compressible flow  and usually such kind of problem can be concluded as shock-wave problem. Gnerally speaking, for shock tube problem the motion of compressible fluids can be treated as inviscid fluid and it was Euler equation that dominated whole process. \n",
    "\n",
    "According to mass, linear momentum, and energy conservation law, the equation for shock tube can be wrote as:\n",
    "\n",
    "$$\\frac{\\partial \\bf{u}}{\\partial t} + \\frac{\\partial \\bf{f}}{\\partial x} = 0\\quad\\quad(1)$$\n",
    "\n",
    "Here, $\\bf{u}$ and $\\bf{f}$ represent conservation varaible and flux respectivly. One may pay attention to the detail that I have bolded these two letters cause they are vectors intead of scalar. Hence equation (1) was a vector equation for shock wave. In order to make this equation more clear. Let me rewrite it as:\n",
    "\n",
    "$$\\frac{\\partial}{\\partial t}\\begin{bmatrix} \\rho \\\\ \\rho u \\\\ \\rho e_T \\end{bmatrix} + \\frac{\\partial}{\\partial x}\\begin{bmatrix} \\rho u \\\\ \\rho u^2 + p \\\\ (\\rho e_T + p)u \\end{bmatrix} = 0\\quad\\quad(2)$$\n",
    "\n",
    "Equation (2) was still a vetor form but what if Someone desired to obtain a scalar form, so let me write it as below:\n",
    "\n",
    "$$\\Bigg \\{ \\begin{matrix} \\frac{\\partial \\rho}{t} + \\frac{\\partial (\\rho u)}{\\partial x} = 0\\quad\\quad\\quad(3) \\\\ \\frac{\\partial \\rho u}{t} + \\frac{\\partial (\\rho u^2 + p)}{\\partial x} = 0\\quad\\quad(4) \\\\ \\frac{\\partial \\rho e_T}{t} + \\frac{\\partial (\\rho e_T + p)}{\\partial x} = 0\\quad\\quad(5) \\end{matrix}$$\n",
    "\n",
    "And based on ideal gas equation of state, pressure can be depicted through other three variables.\n",
    "\n",
    "Sod's background material indicate that:\n",
    "\n",
    "$$ {\\bf{u}} = \\begin{bmatrix} u_1\\\\u_2\\\\u_3 \\end{bmatrix}=\\begin{bmatrix} \\rho \\\\ \\rho u \\\\ \\rho e_T \\end{bmatrix} \\quad\\quad(6)$$\n",
    "\n",
    "Another condition required here is flux and flux should also be expressed with $u_1$, $u_2$ and $u_3$. So flux vetor obtained:\n",
    "\n",
    "$${\\bf{f}} = \\begin{bmatrix} f_1 \\\\f_2\\\\f_3 \\end{bmatrix} = \\begin{bmatrix} u_2\\\\\\frac{{u_2}^2}{u_1} + (\\gamma-1)(u_3 - \\frac{1}{2}\\frac{{u_2}^2}{u_1}) \\\\ (u_3 + (\\gamma-1)(u_3-\\frac{1}{2}\\frac{{u_2}^2}{u_1}))\\frac{u_2}{u_1} \\end{bmatrix}\\quad\\quad(7)$$\n",
    "\n",
    "## The Richtmyer method for this Riemann problem:\n",
    "\n",
    "Richtmyer is a $\\it{two-step}$ method, given by (scalar form):\n",
    "\n",
    "$${u_{1,2,3}}_{i+\\frac{1}{2}}^{n+\\frac{1}{2}} = \\frac{1}{2}({u_{1,2,3}}_{i+1}^{n}) - \\frac{\\Delta t}{2\\Delta x}({f_{1,2,3}}_{i+1}^{n}-{f_{1,2,3}}_{i}^{n})\\quad\\quad(8)$$\n",
    "\n",
    "$${u_{1,2,3}}_{i}^{n+1} = {u_{1,2,3}}_{i}^{n} - \\frac{\\Delta t}{\\Delta x}({f_{1,2,3}}_{i+\\frac{1}{2}}^{n+\\frac{1}{2}}-{f_{1,2,3}}_{i-\\frac{1}{2}}^{n+\\frac{1}{2}})\\quad\\quad(9)$$\n",
    "\n",
    "${u_{1,2,3}}$ indicates $u_1$, $u_2$, $u_3$ rspectivly. Like material mentioned,  this method is similar to $Maccormack-method$ equation (8) can be regarded as $predictor$ and equation (9) $corrector$\n",
    "\n",
    "## Coding for Richtmyer method:\n"
   ]
  },
  {
   "cell_type": "code",
   "execution_count": 2,
   "metadata": {
    "collapsed": true
   },
   "outputs": [],
   "source": [
    "%matplotlib inline\n",
    "import numpy \n",
    "from matplotlib import pyplot\n",
    "from matplotlib import rcParams\n",
    "rcParams['font.family'] = 'serif'\n",
    "rcParams['font.size'] = 16"
   ]
  },
  {
   "cell_type": "code",
   "execution_count": 3,
   "metadata": {
    "collapsed": true
   },
   "outputs": [],
   "source": [
    "def init_density(rho_l,rho_r,nx):\n",
    "   \n",
    "    rho = rho_l*numpy.ones(nx)    #initial density for left-side\n",
    "    \n",
    "    rho[int((nx-1)/2):] = rho_r     #initial density for right-side\n",
    "    \n",
    "    return rho\n",
    "    \n",
    "def init_velocity(v_l,v_r,nx):\n",
    "    \n",
    "    v = v_l*numpy.ones(nx)    #initial velocity for left-side \n",
    "    \n",
    "    v[int((nx-1)/2):] = v_r    #initial velocity for right-side\n",
    "    \n",
    "    return v\n",
    "\n",
    "def init_pressure(p_l,p_r,nx):\n",
    "    \n",
    "    p = p_l*numpy.ones(nx)    #initial pressure for left-side\n",
    "    \n",
    "    p[int((nx-1)/2):] = p_r    #initial pressure for right-side\n",
    "    \n",
    "    return p"
   ]
  },
  {
   "cell_type": "code",
   "execution_count": 4,
   "metadata": {
    "collapsed": true
   },
   "outputs": [],
   "source": [
    "#Basic initial condition parameters\n",
    "nx = 81    #number of steps in space \n",
    "dx = 0.25    #step-size in space\n",
    "t = 0.01    #total time\n",
    "dt = 0.0002    #step-size in time\n",
    "nt = int(0.01/0.0002)+1    #number of steps in time\n",
    "gamma = 1.4    #coefficient\n",
    "rho_l = 1.0    #Left IC density\n",
    "rho_r = 0.125    #Right IC density\n",
    "v_l = 0.0    #Left IC velocity    \n",
    "v_r = 0.0    #Right IC velovity\n",
    "p_l = 100.0*1000.0 #Left IC for pressure \n",
    "p_r = 10.0*1000.0    #Right IC for pressure\n",
    "\n",
    "\n",
    "x = numpy.linspace(-10.0,10.0,nx)\n"
   ]
  },
  {
   "cell_type": "code",
   "execution_count": 5,
   "metadata": {
    "collapsed": true
   },
   "outputs": [],
   "source": [
    "\"\"\"\n",
    "This step is to calculate the flux for each conservation variable\n",
    "\n",
    "\"\"\"\n",
    "def F1(u2):\n",
    "    \n",
    "    return u2\n",
    "\n",
    "def F2(u1,u2,u3,gamma):\n",
    "    \n",
    "    return u2**2/u1+(gamma-1)*(u3-0.5*u2**2/u1)\n",
    "\n",
    "def F3(u1,u2,u3,gamma):\n",
    "    \n",
    "    return (u3+(gamma-1)*(u3-0.5*u2**2/u1))*u2/u1"
   ]
  },
  {
   "cell_type": "code",
   "execution_count": 6,
   "metadata": {
    "collapsed": true
   },
   "outputs": [],
   "source": [
    "def Rich(u1, u2, u3, dx, dt, nx, nt,gamma):\n",
    "    u1_n = numpy.zeros((nt, nx))\n",
    "    u1_n[:,:] = u1.copy()\n",
    "    u1_star = numpy.empty_like(u1)\n",
    "    u1_star = u1.copy()\n",
    "\n",
    "    u2_n = numpy.zeros((nt, nx))\n",
    "    u2_n[:,:] = u2.copy()\n",
    "    u2_star = numpy.empty_like(u2)\n",
    "    u2_star = u2.copy()\n",
    "\n",
    "    u3_n = numpy.zeros((nt, nx))\n",
    "    u3_n[:,:] = u3.copy()\n",
    "    u3_star = numpy.empty_like(u3)\n",
    "    u3_star = u3.copy()\n",
    "    \n",
    "    for i in range(1, nt):\n",
    "        f1 = F1(u2)\n",
    "        f2 = F2(u1, u2, u3,gamma)\n",
    "        f3 = F3(u1, u2, u3,gamma)\n",
    "        \n",
    "         \n",
    "        u1_star[:-1] = 0.5*(u1[:-1] + u1[1:]) - (dt/(2*dx))*(f1[1:] - f1[:-1])\n",
    "        u2_star[:-1] = 0.5*(u2[:-1] + u2[1:]) - (dt/(2*dx))*(f2[1:] - f2[:-1])\n",
    "        u3_star[:-1] = 0.5*(u3[:-1] + u3[1:]) - (dt/(2*dx))*(f3[1:] - f3[:-1])\n",
    "        \n",
    "         \n",
    "        f1_star = F1(u2_star)\n",
    "        f2_star = F2(u1_star, u2_star, u3_star,gamma)\n",
    "        f3_star = F3(u1_star, u2_star, u3_star,gamma)\n",
    "        \n",
    "        \n",
    "        u1_n[i,1:-1] = u1[1:-1] - (dt/dx)*(f1_star[1:-1] - f1_star[:-2])\n",
    "        u2_n[i,1:-1] = u2[1:-1] - (dt/dx)*(f2_star[1:-1] - f2_star[:-2])\n",
    "        u3_n[i,1:-1] = u3[1:-1] - (dt/dx)*(f3_star[1:-1] - f3_star[:-2])\n",
    "        \n",
    "        u1 = u1_n[i].copy()\n",
    "        u2 = u2_n[i].copy()\n",
    "        u3 = u3_n[i].copy()\n",
    "        \n",
    "       \n",
    "    return u1_n, u2_n, u3_n"
   ]
  },
  {
   "cell_type": "code",
   "execution_count": 7,
   "metadata": {
    "collapsed": false
   },
   "outputs": [
    {
     "name": "stdout",
     "output_type": "stream",
     "text": [
      "The density at t = 0.01s, x = 2.5m is: 0.37 kg/m^3.\n",
      "The velocity at t = 0.01s, x = 2.5m is: 292.61 m/s.\n",
      "The pressure at t = 0.01s, x = 2.5m is: 30250.89 pa.\n"
     ]
    }
   ],
   "source": [
    "rho = init_density(rho_l,rho_r,nx)\n",
    "v = init_velocity(v_l,v_r,nx)\n",
    "p = init_pressure(p_l,p_r,nx)\n",
    "\n",
    "u1 = rho    #set initial condition for u1 namely density\n",
    "u2 = rho*v    #set initial condition for u2 namely density times velocity\n",
    "u3 = p/(gamma-1) + rho*v**2/2    #set initial condition for u2 namely density times energy\n",
    "\n",
    "u1_n,u2_n,u3_n = Rich(u1, u2, u3, dx, dt, nx, nt,gamma)\n",
    "# u1_n, u2_n, u3_n corresponds denisty, density times velocity, and density times energy respectively\n",
    "\n",
    "#At t = 0.01s which means index=50,the three fluxes should be:\n",
    "\n",
    "u1_t = u1_n[50]\n",
    "u2_t = u2_n[50]\n",
    "u3_t = u3_n[50]\n",
    "\n",
    "#Next it is time to calculate all three fluxes at x = 2.5m \n",
    "for i in range(len(x)):\n",
    "    if x[i] == 2.5:\n",
    "        n = i\n",
    "\n",
    "rho = u1_t[n]    # calculate the desired density\n",
    "print('The density at t = 0.01s, x = 2.5m is: {:.2f} kg/m^3.'.format(rho))\n",
    "\n",
    "velocity = u2_t[n]/u1_t[n]\n",
    "print('The velocity at t = 0.01s, x = 2.5m is: {:.2f} m/s.'.format(velocity))\n",
    "\n",
    "pressure = (gamma-1)*(u3_t[n]-0.5*u2_t[n]**2/u1_t[n])\n",
    "print('The pressure at t = 0.01s, x = 2.5m is: {:.2f} pa.'.format(pressure))"
   ]
  },
  {
   "cell_type": "code",
   "execution_count": 8,
   "metadata": {
    "collapsed": false
   },
   "outputs": [
    {
     "data": {
      "text/plain": [
       "[<matplotlib.lines.Line2D at 0x7fb06f94a2b0>]"
      ]
     },
     "execution_count": 8,
     "metadata": {},
     "output_type": "execute_result"
    },
    {
     "data": {
      "image/png": "[encoded data removed]",
      "text/plain": [
       "<matplotlib.figure.Figure at 0x7fb0880c3e10>"
      ]
     },
     "metadata": {},
     "output_type": "display_data"
    }
   ],
   "source": [
    "pyplot.plot(x,u1_t)"
   ]
  },
  {
   "cell_type": "code",
   "execution_count": 9,
   "metadata": {
    "collapsed": true
   },
   "outputs": [],
   "source": [
    "### Solving this problem with vector form"
   ]
  },
  {
   "cell_type": "code",
   "execution_count": 10,
   "metadata": {
    "collapsed": true
   },
   "outputs": [],
   "source": [
    "import numpy\n",
    "from matplotlib import pyplot\n",
    "%matplotlib inline\n",
    "nt = int(0.01/0.0002)+1\n",
    "nx = 81\n",
    "dt = 0.0002\n",
    "dx = 0.25\n",
    "gamma = 1.4\n",
    "x = numpy.linspace(-10.0,10.0,nx)"
   ]
  },
  {
   "cell_type": "code",
   "execution_count": 11,
   "metadata": {
    "collapsed": true
   },
   "outputs": [],
   "source": [
    "rho_i = numpy.ones(nx)\n",
    "rho_i[40:] = 0.125\n",
    "v_i = numpy.zeros(nx)\n",
    "p_i = 100*1000*numpy.ones(nx)\n",
    "p_i[40:] = 10*1000"
   ]
  },
  {
   "cell_type": "code",
   "execution_count": 12,
   "metadata": {
    "collapsed": true
   },
   "outputs": [],
   "source": [
    "def F(U):\n",
    "    \n",
    "    Fl = numpy.zeros_like(U)\n",
    "    Fl[0] = U[1]\n",
    "    Fl[1] = U[1]**2/U[0] + (gamma-1)*(U[2] - 0.5*U[1]**2/U[0])\n",
    "    Fl[2] = (U[2] + (gamma-1)*(U[2] - 0.5*U[1]**2/U[0]))*U[1]/U[0]\n",
    "    \n",
    "    return Fl"
   ]
  },
  {
   "cell_type": "code",
   "execution_count": 13,
   "metadata": {
    "collapsed": true
   },
   "outputs": [],
   "source": [
    "def Rich(dt,dx,nt,nx,U):\n",
    "    U_star = numpy.zeros_like(U)\n",
    "    U_n = numpy.zeros((nt,3,nx))\n",
    "    U_n[:,:] = U.copy()\n",
    "    U_star = U.copy()      \n",
    "\n",
    "    for i in range(1,51):\n",
    "        \n",
    "        Flux = F(U)\n",
    "        U_star[:,:-1] = 0.5*(U[:,1:] + U[:,:-1]) - dt/(2*dx)*(Flux[:,1:] - Flux[:,:-1])\n",
    "        Flux_star = F(U_star)\n",
    "        U_n[i,:,1:-1] = U[:,1:-1] - dt/dx*(Flux_star[:,1:-1] - Flux_star[:,:-2])\n",
    "        U = U_n[i].copy()\n",
    "    \n",
    "    return U_n"
   ]
  },
  {
   "cell_type": "code",
   "execution_count": 14,
   "metadata": {
    "collapsed": false
   },
   "outputs": [
    {
     "data": {
      "text/plain": [
       "[<matplotlib.lines.Line2D at 0x7fb074204128>]"
      ]
     },
     "execution_count": 14,
     "metadata": {},
     "output_type": "execute_result"
    },
    {
     "data": {
      "image/png": "[encoded data removed]",
      "text/plain": [
       "<matplotlib.figure.Figure at 0x7fb06f3edd68>"
      ]
     },
     "metadata": {},
     "output_type": "display_data"
    }
   ],
   "source": [
    "U = numpy.zeros((3,nx))\n",
    "U[0] = rho_i\n",
    "U[1] = rho_i*v_i\n",
    "U[2] = p_i/(gamma-1)+0.5*rho_i*v_i**2\n",
    "\n",
    "un = Rich(dt,dx,nt,nx,U)\n",
    "pyplot.plot(x,un[50,0])"
   ]
  },
  {
   "cell_type": "code",
   "execution_count": 15,
   "metadata": {
    "collapsed": false
   },
   "outputs": [
    {
     "name": "stdout",
     "output_type": "stream",
     "text": [
      "The density at t = 0.01s, x = 2.5m is: 0.37 kg/m^3.\n",
      "The velocity at t = 0.01s, x = 2.5m is: 292.61 m/s.\n",
      "The pressure at t = 0.01s, x = 2.5m is: 30250.89 pa.\n"
     ]
    }
   ],
   "source": [
    "rho = un[50,0,50]\n",
    "print('The density at t = 0.01s, x = 2.5m is: {:.2f} kg/m^3.'.format(rho))\n",
    "\n",
    "v = un[50,1,50]/un[50,0,50]\n",
    "print('The velocity at t = 0.01s, x = 2.5m is: {:.2f} m/s.'.format(velocity))\n",
    "\n",
    "pressure = (gamma-1)*(un[50,2,50]-0.5*un[50,1,50]**2/un[50,0,50])\n",
    "print('The pressure at t = 0.01s, x = 2.5m is: {:.2f} pa.'.format(pressure))"
   ]
  },
  {
   "cell_type": "code",
   "execution_count": null,
   "metadata": {
    "collapsed": true
   },
   "outputs": [],
   "source": []
  }
 ],
 "metadata": {
  "kernelspec": {
   "display_name": "Python [default]",
   "language": "python",
   "name": "python3"
  },
  "language_info": {
   "codemirror_mode": {
    "name": "ipython",
    "version": 3
   },
   "file_extension": ".py",
   "mimetype": "text/x-python",
   "name": "python",
   "nbconvert_exporter": "python",
   "pygments_lexer": "ipython3",
   "version": "3.5.2"
  }
 },
 "nbformat": 4,
 "nbformat_minor": 1
}
