{
 "cells": [
  {
   "cell_type": "markdown",
   "metadata": {},
   "source": [
    "Simplified vorcity for transport equation for Stokes flow:\n",
    "\n",
    "$$\\nabla^2\\omega = 0\\quad\\quad(1)$$\n",
    "\n",
    "stream  function canbe defined:\n",
    "\n",
    "$$u = \\dfrac{\\partial \\psi}{\\partial y}~and~v = -\\dfrac{\\partial \\psi}{\\partial x}\\quad\\quad(2)$$\n",
    "\n",
    "In 2d, Vorticity should be:\n",
    "\n",
    "$$\\omega = \\dfrac{\\partial v}{\\partial x}-\\dfrac{\\partial u}{\\partial y}\\quad\\quad(3)$$\n",
    "\n",
    "substituting $u,v$ showed in Eq(1) into Eq(2):\n",
    "\n",
    "$$\\nabla^2\\psi = -\\omega\\quad\\quad(4)$$\n",
    "\n",
    "Above Eq (4) combined with Eq(1):\n",
    "\n",
    "$$\\nabla^4\\psi = 0\\quad\\quad(5)$$\n",
    "\n",
    "Given boundary condition:\n",
    "\n",
    "At $x = 0$:\n",
    "\n",
    "$$\\psi = 0,~\\dfrac{\\partial \\psi}{\\partial x} = 0$$\n",
    "\n",
    "At $x = 1$:\n",
    "\n",
    "$$\\psi = 0,~\\dfrac{\\partial \\psi}{\\partial x} = 0$$\n",
    "\n",
    "At $y = 0$:\n",
    "\n",
    "$$\\psi = 0,~\\dfrac{\\partial \\psi}{\\partial y} = 0$$\n",
    "\n",
    "At $y = 1$:\n",
    "\n",
    "$$\\psi = 0,~\\dfrac{\\partial \\psi}{\\partial y} = 1$$"
   ]
  },
  {
   "cell_type": "code",
   "execution_count": 1,
   "metadata": {
    "collapsed": true
   },
   "outputs": [],
   "source": [
    "import numpy\n",
    "from matplotlib import pyplot\n",
    "%matplotlib inline\n",
    "from matplotlib import rcParams\n",
    "rcParams['font.family'] = 'serif'\n",
    "rcParams['font.size'] = 16\n",
    "from mpl_toolkits.mplot3d import Axes3D\n",
    "from matplotlib import cm"
   ]
  },
  {
   "cell_type": "code",
   "execution_count": 2,
   "metadata": {},
   "outputs": [],
   "source": [
    "def plot_3D(x, y, p):\n",
    "\n",
    "    fig = pyplot.figure(figsize=(11,7), dpi=100)\n",
    "    ax = fig.gca(projection='3d')\n",
    "    X,Y = numpy.meshgrid(x,y)\n",
    "    surf = ax.plot_surface(X,Y,p[:], rstride=1, cstride=1, cmap=cm.viridis,\n",
    "            linewidth=0, antialiased=False)\n",
    "\n",
    "    ax.set_xlim(0,1)\n",
    "    ax.set_ylim(0,1)\n",
    "    ax.set_xlabel('$x$')\n",
    "    ax.set_ylabel('$y$')\n",
    "    ax.set_zlabel('$z$')\n",
    "    ax.view_init(30,45)"
   ]
  },
  {
   "cell_type": "code",
   "execution_count": 3,
   "metadata": {
    "collapsed": true
   },
   "outputs": [],
   "source": [
    "nx = 41\n",
    "ny = 41\n",
    "\n",
    "l = 1.\n",
    "h = 1.\n",
    "\n",
    "dx = l/(nx-1)\n",
    "dy = h/(ny-1)\n",
    "\n",
    "l1_target = 1e-6\n",
    "\n",
    "##initial conditions\n",
    "p_i = numpy.zeros((ny,nx)) ##create a XxY vector of 0's\n",
    "psi_i = numpy.zeros((ny,nx)) ##create a XxY vector of 0's\n",
    "\n",
    "##plotting aids\n",
    "x = numpy.linspace(0.0,l,nx)\n",
    "y = numpy.linspace(0.0,h,ny)\n",
    "\n",
    "X,Y = numpy.meshgrid(x,y)"
   ]
  },
  {
   "cell_type": "code",
   "execution_count": 4,
   "metadata": {
    "collapsed": true
   },
   "outputs": [],
   "source": [
    "def L1norm(new, old):\n",
    "    norm = numpy.sum(numpy.abs(new-old))\n",
    "    return norm"
   ]
  },
  {
   "cell_type": "markdown",
   "metadata": {},
   "source": [
    "With given condition why not solve it with:\n",
    "\n",
    "$$\\nabla^2 \\omega = 0-laplace~equation$$\n",
    "    \n",
    "$$\\nabla^2 \\psi = -\\omega-poisson~eqaution$$"
   ]
  },
  {
   "cell_type": "code",
   "execution_count": 5,
   "metadata": {},
   "outputs": [],
   "source": [
    "def lap_poi(p,psi,dx,dy,l1_target):\n",
    "    \n",
    "    l1norm = 1\n",
    "    l2norm = 1\n",
    "    pn = numpy.empty_like(p)\n",
    "    psi_n = numpy.empty_like(psi)\n",
    "    iterations = 0\n",
    "    \n",
    "    while l1norm > l1_target or l2norm > l1_target:\n",
    "    \n",
    "        pn = p.copy()\n",
    "        psi_n = psi.copy()\n",
    "    \n",
    "    \n",
    "        psi[1:-1,1:-1] = ( (psi_n[1:-1,:-2] + psi_n[1:-1,2:])*dy**2 +\\\n",
    "                             (psi_n[:-2,1:-1] + psi_n[2:,1:-1])*dx**2 +\\\n",
    "                            p[1:-1,1:-1]*dx**2*dy**2 )\\\n",
    "                        /(2*(dx**2+dy**2))\n",
    "        \n",
    "        p[1:-1,1:-1] = .25*(pn[1:-1,2:] + pn[1:-1, :-2] +\\\n",
    "                        pn[2:, 1:-1] + pn[:-2, 1:-1])\n",
    "        \n",
    "        \n",
    "        #Boundary condition for omega and psi:\n",
    "        #top surface:\n",
    "        p[-1,1:-1] = -1/(2*dy**2)*(8*psi[-2,1:-1]-psi[-3,1:-1]) - 3/dy\n",
    "        #psi[-1,1:-1] = 0 # this term stands for O(delta y^2)\n",
    "        #psi[-1,1:-1] = psi[-2, 1:-1] + dy\n",
    "        \n",
    "        #bottom surface:\n",
    "        p[0,1:-1] = -1/(2*dy**2)*(8*psi[1,1:-1]-psi[2,1:-1])\n",
    "        #psi[0,:] = 0\n",
    "        #psi[0,1:-1] = psi[1,1:-1]\n",
    "        \n",
    "        #left surface:\n",
    "        p[1:-1,0]=-1/(2*dy**2)*(8*psi[1:-1,1]-psi[1:-1,2])\n",
    "        #psi[1:-1,0] = 0\n",
    "        #psi[1:-1,0] = psi[1:-1,1]\n",
    "        \n",
    "        #right surface:\n",
    "        p[1:-1,-1]=-1/(2*dy**2)*(8*psi[1:-1,-2]-psi[1:-1,-3])\n",
    "        #psi[1:-1,-1] = 0\n",
    "        #psi[1:-1,-1]=psi[1:-1,-2]\n",
    "        \n",
    "        l1norm = L1norm(p,pn)\n",
    "        l2norm = L1norm(psi,psi_n)\n",
    "    \n",
    "    print(l1norm)\n",
    "    print(l2norm)\n",
    "    return p, psi"
   ]
  },
  {
   "cell_type": "code",
   "execution_count": 6,
   "metadata": {
    "scrolled": true
   },
   "outputs": [
    {
     "name": "stdout",
     "output_type": "stream",
     "text": [
      "9.99748384019e-07\n",
      "2.24232961693e-08\n",
      "\n",
      "The maximum value for psi is 0.0998\n",
      "\n",
      "The maximum value for omega is 78.1927\n"
     ]
    }
   ],
   "source": [
    "p,psi = lap_poi(p_i.copy(),psi_i.copy(),dx,dy,l1_target)\n",
    "print()\n",
    "print('The maximum value for psi is {:.4f}'.format(numpy.max(numpy.abs(psi))) )\n",
    "print()\n",
    "print('The maximum value for omega is {:.4f}'.format(numpy.max(numpy.abs(p))) )\n"
   ]
  },
  {
   "cell_type": "code",
   "execution_count": 7,
   "metadata": {},
   "outputs": [
    {
     "name": "stdout",
     "output_type": "stream",
     "text": [
      "The 1 number is: 0.0000\n",
      "The 2 number is: -0.0575\n",
      "The 3 number is: -0.0944\n",
      "The 4 number is: -0.0944\n",
      "The 5 number is: -0.0575\n",
      "The 6 number is: 0.0000\n"
     ]
    }
   ],
   "source": [
    "a = numpy.round(psi[32,::8],4)\n",
    "for i in range(len(a)):\n",
    "    print('The {} number is: {:.4f}'.format(i+1,a[i]))"
   ]
  },
  {
   "cell_type": "markdown",
   "metadata": {},
   "source": [
    "# Question:\n",
    "\n",
    "If added all Neumann condition to solve this problem, the answer is completely different. However, $\\psi$ should satisfy all eight boundary conditions, why neumann conditions neglected here? "
   ]
  },
  {
   "cell_type": "code",
   "execution_count": null,
   "metadata": {
    "collapsed": true
   },
   "outputs": [],
   "source": []
  }
 ],
 "metadata": {
  "anaconda-cloud": {},
  "kernelspec": {
   "display_name": "Python 3",
   "language": "python",
   "name": "python3"
  },
  "language_info": {
   "codemirror_mode": {
    "name": "ipython",
    "version": 3
   },
   "file_extension": ".py",
   "mimetype": "text/x-python",
   "name": "python",
   "nbconvert_exporter": "python",
   "pygments_lexer": "ipython3",
   "version": "3.6.0"
  }
 },
 "nbformat": 4,
 "nbformat_minor": 1
}
